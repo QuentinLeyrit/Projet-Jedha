{
 "cells": [
  {
   "cell_type": "code",
   "execution_count": null,
   "metadata": {},
   "outputs": [],
   "source": [
    "class Game():\n",
    "    def __init__(self, question, reponse):\n",
    "        self.question = question\n",
    "        self.reponse = reponse\n",
    "        self.manche = 0\n",
    "        self.life = 3\n",
    "        \n",
    "    def jeu(self):\n",
    "        while self.manche < 3 and self.life > 0:\n",
    "            if input(self.question[self.manche]) == self.reponse[self.manche]:\n",
    "                self.manche += 1\n",
    "                print('Bravo prochaine question')\n",
    "            else:\n",
    "                self.life -= 1\n",
    "                print('Mauvaise réponse. Plus que {} vie(s)'.format(self.life))\n",
    "        if self.manche == 3:\n",
    "            print('Bravo')\n",
    "        if self.life == 0:\n",
    "            print('Perdu')\n",
    "            \n",
    "point_a = Game(['Combien de fois la France a gagné la coupe du monde ? ', 'Quand a été fondé Apple ? ', 'Qui a fondé SpaceX ? '],['2', '1976', 'elon musk'])\n",
    "\n",
    "point_a.jeu()\n",
    "        "
   ]
  }
 ],
 "metadata": {
  "kernelspec": {
   "display_name": "Python 3",
   "language": "python",
   "name": "python3"
  },
  "language_info": {
   "codemirror_mode": {
    "name": "ipython",
    "version": 3
   },
   "file_extension": ".py",
   "mimetype": "text/x-python",
   "name": "python",
   "nbconvert_exporter": "python",
   "pygments_lexer": "ipython3",
   "version": "3.8.5"
  }
 },
 "nbformat": 4,
 "nbformat_minor": 4
}
