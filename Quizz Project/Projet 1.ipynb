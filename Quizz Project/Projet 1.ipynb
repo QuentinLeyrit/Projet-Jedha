{
 "cells": [
  {
   "cell_type": "code",
   "execution_count": null,
   "metadata": {},
   "outputs": [],
   "source": [
    "#Quizz\n",
    "\n",
    "ind = 0\n",
    "wrong = 3\n",
    "    \n",
    "while ind != 1 and wrong != 0:\n",
    "    a = input(\"Département du 01 ? \")\n",
    "    if a != \"Ain\":\n",
    "        print(\"Mauvaise réponse, plus que {} chance(s)\".format(wrong - 1))\n",
    "        wrong -= 1\n",
    "    else:\n",
    "        ind = 1\n",
    "        \n",
    "ind = 0\n",
    "    \n",
    "while ind != 1 and wrong != 0:\n",
    "    b = input(\"a + 2 * 3 = 7 ? \")\n",
    "    if b != \"1\":\n",
    "        print(\"Mauvaise réponse, plus que {} chance(s)\".format(wrong - 1))\n",
    "        wrong -= 1\n",
    "    else:\n",
    "        ind = 1\n",
    "        \n",
    "ind = 0\n",
    "        \n",
    "while ind != 1 and wrong != 0:\n",
    "    c = input(\"Ancien peuple nomade originaire d'Asie ? \")\n",
    "    if c != \"Huns\":\n",
    "        print(\"Mauvaise réponse, plus que {} chance(s)\".format(wrong - 1))\n",
    "        wrong -= 1\n",
    "    else:\n",
    "        ind = 1\n",
    "        print(\"Gagné!\")\n",
    "\n",
    "if wrong == 0:\n",
    "    print(\"Perdu!\")\n",
    "\n",
    "        \n",
    "\n"
   ]
  }
 ],
 "metadata": {
  "kernelspec": {
   "display_name": "Python 3",
   "language": "python",
   "name": "python3"
  },
  "language_info": {
   "codemirror_mode": {
    "name": "ipython",
    "version": 3
   },
   "file_extension": ".py",
   "mimetype": "text/x-python",
   "name": "python",
   "nbconvert_exporter": "python",
   "pygments_lexer": "ipython3",
   "version": "3.8.5"
  }
 },
 "nbformat": 4,
 "nbformat_minor": 4
}
