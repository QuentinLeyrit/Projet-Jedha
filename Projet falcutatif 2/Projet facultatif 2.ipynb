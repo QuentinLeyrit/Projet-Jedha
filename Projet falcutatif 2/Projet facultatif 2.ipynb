{
 "cells": [
  {
   "cell_type": "code",
   "execution_count": null,
   "metadata": {},
   "outputs": [],
   "source": [
    "class Imputer():\n",
    "    def __init__(self, list):\n",
    "        self.list = list\n",
    "    def avg(self):\n",
    "        list_nan =[]\n",
    "        moy = 0\n",
    "        som = 0\n",
    "        ind = 0\n",
    "        \n",
    "        for i in range(len(self.list)):\n",
    "            if self.list[i] == None :\n",
    "                list_nan.append(i)\n",
    "            elif self.list[i] != None :\n",
    "                som += self.list[i]\n",
    "                ind += 1\n",
    "        moy = som / ind\n",
    "        \n",
    "        for x in range(len(list_nan)):\n",
    "            self.list[list_nan[x]] = moy\n",
    "        \n",
    "        print(self.list)\n",
    "    \n",
    "    def med(self):\n",
    "        list_nan = []\n",
    "        list_nbr = []\n",
    "        for i in range(len(self.list)):\n",
    "            if self.list[i] == None :\n",
    "                list_nan.append(i)\n",
    "            else:\n",
    "                list_nbr.append(self.list[i])\n",
    "\n",
    "                \n",
    "        if len(list_nbr) % 2 == 0:\n",
    "            mediane = (list_nbr[len(list_nbr)// 2 - 1 ] + list_nbr[len(list_nbr)// 2]) / 2\n",
    "        \n",
    "        else :\n",
    "            mediane = list_nbr[len(list_nbr) // 2]\n",
    "      \n",
    "        for x in range(len(list_nan)):\n",
    "            self.list[list_nan[x]] = mediane\n",
    "        \n",
    "        print(self.list)\n",
    "\n",
    "list_1 = Imputer([None, 5, 5, 6, 8, 6, None, None, None])\n",
    "\n",
    "list_1.med()"
   ]
  }
 ],
 "metadata": {
  "kernelspec": {
   "display_name": "Python 3",
   "language": "python",
   "name": "python3"
  },
  "language_info": {
   "codemirror_mode": {
    "name": "ipython",
    "version": 3
   },
   "file_extension": ".py",
   "mimetype": "text/x-python",
   "name": "python",
   "nbconvert_exporter": "python",
   "pygments_lexer": "ipython3",
   "version": "3.8.5"
  }
 },
 "nbformat": 4,
 "nbformat_minor": 4
}
